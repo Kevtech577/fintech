{
 "cells": [
  {
   "cell_type": "code",
   "execution_count": 25,
   "id": "8c2d4a72-af60-491f-8e53-290fa64db61b",
   "metadata": {},
   "outputs": [],
   "source": [
    "# Import the required libraries and dependencies\n",
    "import pandas as pd\n",
    "from pathlib import Path\n",
    "import hvplot.pandas\n",
    "import datetime as dt\n",
    "import numpy as np\n",
    "%matplotlib inline"
   ]
  },
  {
   "cell_type": "code",
   "execution_count": 13,
   "id": "a19c1465-3682-4183-9d4d-97b0dbf5c123",
   "metadata": {},
   "outputs": [],
   "source": [
    "# Read the data from the tsla_historical.csv file into a Pandas DataFrame\n",
    "# df_home_sales = pd.read_csv(\n",
    "#     Path(\"national-home-sales.csv\"),\n",
    "# #     index_col=\"inventory\"\n",
    "# #     infer_datetime_format= True,\n",
    "# #     parse_dates=True\n",
    "# )"
   ]
  },
  {
   "cell_type": "code",
   "execution_count": 14,
   "id": "5bdb6c11-1c85-4bf9-a82a-d87de9c67c26",
   "metadata": {},
   "outputs": [
    {
     "data": {
      "text/html": [
       "<div>\n",
       "<style scoped>\n",
       "    .dataframe tbody tr th:only-of-type {\n",
       "        vertical-align: middle;\n",
       "    }\n",
       "\n",
       "    .dataframe tbody tr th {\n",
       "        vertical-align: top;\n",
       "    }\n",
       "\n",
       "    .dataframe thead th {\n",
       "        text-align: right;\n",
       "    }\n",
       "</style>\n",
       "<table border=\"1\" class=\"dataframe\">\n",
       "  <thead>\n",
       "    <tr style=\"text-align: right;\">\n",
       "      <th></th>\n",
       "      <th>inventory</th>\n",
       "      <th>homes_sold</th>\n",
       "      <th>median_sale_price</th>\n",
       "    </tr>\n",
       "    <tr>\n",
       "      <th>period_end_date</th>\n",
       "      <th></th>\n",
       "      <th></th>\n",
       "      <th></th>\n",
       "    </tr>\n",
       "  </thead>\n",
       "  <tbody>\n",
       "    <tr>\n",
       "      <th>2020-01-01</th>\n",
       "      <td>1250798</td>\n",
       "      <td>377964</td>\n",
       "      <td>289000</td>\n",
       "    </tr>\n",
       "    <tr>\n",
       "      <th>2020-02-01</th>\n",
       "      <td>1265253</td>\n",
       "      <td>405992</td>\n",
       "      <td>294000</td>\n",
       "    </tr>\n",
       "    <tr>\n",
       "      <th>2020-03-01</th>\n",
       "      <td>1316823</td>\n",
       "      <td>507324</td>\n",
       "      <td>303000</td>\n",
       "    </tr>\n",
       "    <tr>\n",
       "      <th>2020-04-01</th>\n",
       "      <td>1297460</td>\n",
       "      <td>436855</td>\n",
       "      <td>304000</td>\n",
       "    </tr>\n",
       "    <tr>\n",
       "      <th>2020-05-01</th>\n",
       "      <td>1289500</td>\n",
       "      <td>421351</td>\n",
       "      <td>299000</td>\n",
       "    </tr>\n",
       "    <tr>\n",
       "      <th>...</th>\n",
       "      <td>...</td>\n",
       "      <td>...</td>\n",
       "      <td>...</td>\n",
       "    </tr>\n",
       "    <tr>\n",
       "      <th>2019-08-01</th>\n",
       "      <td>1660309</td>\n",
       "      <td>627929</td>\n",
       "      <td>296000</td>\n",
       "    </tr>\n",
       "    <tr>\n",
       "      <th>2019-09-01</th>\n",
       "      <td>1651469</td>\n",
       "      <td>532688</td>\n",
       "      <td>292000</td>\n",
       "    </tr>\n",
       "    <tr>\n",
       "      <th>2019-10-01</th>\n",
       "      <td>1598498</td>\n",
       "      <td>543858</td>\n",
       "      <td>293000</td>\n",
       "    </tr>\n",
       "    <tr>\n",
       "      <th>2019-11-01</th>\n",
       "      <td>1459546</td>\n",
       "      <td>480575</td>\n",
       "      <td>294000</td>\n",
       "    </tr>\n",
       "    <tr>\n",
       "      <th>2019-12-01</th>\n",
       "      <td>1260286</td>\n",
       "      <td>511937</td>\n",
       "      <td>295000</td>\n",
       "    </tr>\n",
       "  </tbody>\n",
       "</table>\n",
       "<p>103 rows × 3 columns</p>\n",
       "</div>"
      ],
      "text/plain": [
       "                 inventory  homes_sold  median_sale_price\n",
       "period_end_date                                          \n",
       "2020-01-01         1250798      377964             289000\n",
       "2020-02-01         1265253      405992             294000\n",
       "2020-03-01         1316823      507324             303000\n",
       "2020-04-01         1297460      436855             304000\n",
       "2020-05-01         1289500      421351             299000\n",
       "...                    ...         ...                ...\n",
       "2019-08-01         1660309      627929             296000\n",
       "2019-09-01         1651469      532688             292000\n",
       "2019-10-01         1598498      543858             293000\n",
       "2019-11-01         1459546      480575             294000\n",
       "2019-12-01         1260286      511937             295000\n",
       "\n",
       "[103 rows x 3 columns]"
      ]
     },
     "execution_count": 14,
     "metadata": {},
     "output_type": "execute_result"
    }
   ],
   "source": [
    "file_path = Path(\"national-home-sales.csv\")\n",
    "\n",
    "# Read in data and index by date\n",
    "df_home_sales = pd.read_csv(\n",
    "    file_path, \n",
    "    index_col='period_end_date',     \n",
    "    parse_dates=True, \n",
    "    infer_datetime_format=True\n",
    ")\n",
    "df_home_sales"
   ]
  },
  {
   "cell_type": "code",
   "execution_count": 4,
   "id": "bf77b254-ebc7-4bca-9a34-c6779efa6a5d",
   "metadata": {},
   "outputs": [],
   "source": [
    "# df_home_sales = Path(\"national-home-sales.csv\")\n",
    "# df = pd.read_csv(df_home_sales, infer_datetime_format=True, parse_dates=True)"
   ]
  },
  {
   "cell_type": "code",
   "execution_count": 8,
   "id": "c1cc102c-cfba-4a80-be48-372e17de3ffe",
   "metadata": {},
   "outputs": [
    {
     "data": {
      "text/plain": [
       "pathlib.PosixPath"
      ]
     },
     "execution_count": 8,
     "metadata": {},
     "output_type": "execute_result"
    }
   ],
   "source": [
    "# type(df_home_sales)"
   ]
  },
  {
   "cell_type": "code",
   "execution_count": 16,
   "id": "40d4c07d-29ca-4d14-b2e9-2bac6ff75e3b",
   "metadata": {},
   "outputs": [
    {
     "data": {
      "image/png": "[encoded data removed]",
      "text/plain": [
       "<Figure size 432x288 with 1 Axes>"
      ]
     },
     "metadata": {
      "needs_background": "light"
     },
     "output_type": "display_data"
    }
   ],
   "source": [
    "# Plot the inventory and homes_sold series\n",
    "df_home_sales[[\"inventory\", \"homes_sold\"]].plot();"
   ]
  },
  {
   "cell_type": "code",
   "execution_count": 18,
   "id": "a86afe76-566a-4927-8d54-e5b90340ceef",
   "metadata": {},
   "outputs": [],
   "source": [
    "# Plot 2014 home sales data\n",
    "# sales_2014.plot(title=\"Homes Sold in 2014\")"
   ]
  },
  {
   "cell_type": "code",
   "execution_count": null,
   "id": "8aa7f9b4-4d21-4e6f-aa58-37a0ed4b8f60",
   "metadata": {},
   "outputs": [],
   "source": []
  },
  {
   "cell_type": "code",
   "execution_count": 19,
   "id": "cdb2dc42-227f-4fe8-b3bf-740352d4bbf6",
   "metadata": {},
   "outputs": [
    {
     "data": {
      "text/plain": [
       "period_end_date\n",
       "2012-02-01    304737\n",
       "2012-03-01    394034\n",
       "2012-04-01    404927\n",
       "2012-05-01    464281\n",
       "2012-06-01    487959\n",
       "               ...  \n",
       "2020-04-01    436855\n",
       "2020-05-01    421351\n",
       "2020-06-01    587635\n",
       "2020-07-01    700733\n",
       "2020-08-01    652878\n",
       "Name: homes_sold, Length: 103, dtype: int64"
      ]
     },
     "execution_count": 19,
     "metadata": {},
     "output_type": "execute_result"
    }
   ],
   "source": [
    "df_home_sales[\"homes_sold\"].groupby(by=[df_home_sales.index]).sum()"
   ]
  },
  {
   "cell_type": "code",
   "execution_count": 21,
   "id": "b64a06fc-c79e-4ef0-99f7-7294cc59fd0f",
   "metadata": {},
   "outputs": [],
   "source": [
    "quarterly_sales_per_year = df_home_sales[\"homes_sold\"].groupby(by=[df_home_sales.index.year, df_home_sales.index.quarter]).sum()"
   ]
  },
  {
   "cell_type": "code",
   "execution_count": 22,
   "id": "30cb420e-8d43-476c-a880-6531486162ea",
   "metadata": {},
   "outputs": [
    {
     "data": {
      "text/plain": [
       "<AxesSubplot:xlabel='period_end_date,period_end_date'>"
      ]
     },
     "execution_count": 22,
     "metadata": {},
     "output_type": "execute_result"
    },
    {
     "data": {
      "image/png": "[encoded data removed]",
      "text/plain": [
       "<Figure size 432x288 with 1 Axes>"
      ]
     },
     "metadata": {
      "needs_background": "light"
     },
     "output_type": "display_data"
    }
   ],
   "source": [
    "# Plot total quarterly home sales per year\n",
    "quarterly_sales_per_year.plot()"
   ]
  },
  {
   "cell_type": "code",
   "execution_count": 26,
   "id": "92d6c50a-f375-4194-b749-bbfcf5a6ba94",
   "metadata": {},
   "outputs": [
    {
     "data": {},
     "metadata": {},
     "output_type": "display_data"
    },
    {
     "data": {
      "application/vnd.holoviews_exec.v0+json": "",
      "text/html": [
       "<div id='1002'>\n",
       "\n",
       "\n",
       "\n",
       "\n",
       "\n",
       "  <div class=\"bk-root\" id=\"5255d16c-3e55-44fc-ab92-5bee1366e533\" data-root-id=\"1002\"></div>\n",
       "</div>\n",
       "<script type=\"application/javascript\">(function(root) {\n",
       "  function embed_document(root) {\n",
       "    var docs_json = {\"44d6a583-60cc-4285-a1f7-19834876a888\":{\"defs\":[{\"extends\":null,\"module\":null,\"name\":\"ReactiveHTML1\",\"overrides\":[],\"properties\":[]},{\"extends\":null,\"module\":null,\"name\":\"FlexBox1\",\"overrides\":[],\"properties\":[{\"default\":\"flex-start\",\"kind\":null,\"name\":\"align_content\"},{\"default\":\"flex-start\",\"kind\":null,\"name\":\"align_items\"},{\"default\":\"row\",\"kind\":null,\"name\":\"flex_direction\"},{\"default\":\"wrap\",\"kind\":null,\"name\":\"flex_wrap\"},{\"default\":\"flex-start\",\"kind\":null,\"name\":\"justify_content\"}]},{\"extends\":null,\"module\":null,\"name\":\"GridStack1\",\"overrides\":[],\"properties\":[{\"default\":\"warn\",\"kind\":null,\"name\":\"mode\"},{\"default\":null,\"kind\":null,\"name\":\"ncols\"},{\"default\":null,\"kind\":null,\"name\":\"nrows\"},{\"default\":true,\"kind\":null,\"name\":\"allow_resize\"},{\"default\":true,\"kind\":null,\"name\":\"allow_drag\"},{\"default\":[],\"kind\":null,\"name\":\"state\"}]},{\"extends\":null,\"module\":null,\"name\":\"click1\",\"overrides\":[],\"properties\":[{\"default\":\"\",\"kind\":null,\"name\":\"terminal_output\"},{\"default\":\"\",\"kind\":null,\"name\":\"debug_name\"},{\"default\":0,\"kind\":null,\"name\":\"clears\"}]},{\"extends\":null,\"module\":null,\"name\":\"TemplateActions1\",\"overrides\":[],\"properties\":[{\"default\":0,\"kind\":null,\"name\":\"open_modal\"},{\"default\":0,\"kind\":null,\"name\":\"close_modal\"}]},{\"extends\":null,\"module\":null,\"name\":\"MaterialTemplateActions1\",\"overrides\":[],\"properties\":[{\"default\":0,\"kind\":null,\"name\":\"open_modal\"},{\"default\":0,\"kind\":null,\"name\":\"close_modal\"}]}],\"roots\":{\"references\":[{\"attributes\":{\"fill_alpha\":{\"value\":0.2},\"fill_color\":{\"field\":\"zvalues\",\"transform\":{\"id\":\"1037\"}},\"hatch_alpha\":{\"value\":0.2},\"height\":{\"field\":\"height\"},\"line_alpha\":{\"value\":0},\"line_color\":{\"value\":\"#1f77b4\"},\"width\":{\"field\":\"width\"},\"x\":{\"field\":\"index_full_stop_year\"},\"y\":{\"field\":\"index_full_stop_quarter\"}},\"id\":\"1044\",\"type\":\"Rect\"},{\"attributes\":{},\"id\":\"1024\",\"type\":\"SaveTool\"},{\"attributes\":{\"axis\":{\"id\":\"1016\"},\"coordinates\":null,\"grid_line_color\":null,\"group\":null,\"ticker\":null},\"id\":\"1019\",\"type\":\"Grid\"},{\"attributes\":{},\"id\":\"1026\",\"type\":\"WheelZoomTool\"},{\"attributes\":{},\"id\":\"1050\",\"type\":\"BasicTickFormatter\"},{\"attributes\":{\"data\":{\"height\":{\"__ndarray__\":\"AAAAAAAA8D8AAAAAAADwPwAAAAAAAPA/AAAAAAAA8D8AAAAAAADwPwAAAAAAAPA/AAAAAAAA8D8AAAAAAADwPwAAAAAAAPA/AAAAAAAA8D8AAAAAAADwPwAAAAAAAPA/AAAAAAAA8D8AAAAAAADwPwAAAAAAAPA/AAAAAAAA8D8AAAAAAADwPwAAAAAAAPA/AAAAAAAA8D8AAAAAAADwPwAAAAAAAPA/AAAAAAAA8D8AAAAAAADwPwAAAAAAAPA/AAAAAAAA8D8AAAAAAADwPwAAAAAAAPA/AAAAAAAA8D8AAAAAAADwPwAAAAAAAPA/AAAAAAAA8D8AAAAAAADwPwAAAAAAAPA/AAAAAAAA8D8AAAAAAADwPwAAAAAAAPA/\",\"dtype\":\"float64\",\"order\":\"little\",\"shape\":[36]},\"homes_sold\":[\"3.4939e+05\",\"4.5239e+05\",\"4.4304e+05\",\"4.0425e+05\",\"3.5116e+05\",\"5.0713e+05\",\"5.113e+05\",\"4.1351e+05\",\"3.3563e+05\",\"4.9817e+05\",\"5.0643e+05\",\"4.3494e+05\",\"3.6846e+05\",\"5.5872e+05\",\"5.7148e+05\",\"4.5993e+05\",\"3.9816e+05\",\"5.9322e+05\",\"5.8364e+05\",\"4.9221e+05\",\"4.2152e+05\",\"6.1376e+05\",\"5.8559e+05\",\"5.0732e+05\",\"4.2166e+05\",\"6.1651e+05\",\"5.8778e+05\",\"4.8448e+05\",\"4.0059e+05\",\"6.0757e+05\",\"5.9902e+05\",\"5.1212e+05\",\"4.3043e+05\",\"4.8195e+05\",\"6.7681e+05\",\"-\"],\"index_full_stop_quarter\":[1,2,3,4,1,2,3,4,1,2,3,4,1,2,3,4,1,2,3,4,1,2,3,4,1,2,3,4,1,2,3,4,1,2,3,4],\"index_full_stop_year\":[2012,2012,2012,2012,2013,2013,2013,2013,2014,2014,2014,2014,2015,2015,2015,2015,2016,2016,2016,2016,2017,2017,2017,2017,2018,2018,2018,2018,2019,2019,2019,2019,2020,2020,2020,2020],\"width\":{\"__ndarray__\":\"AAAAAAAA8D8AAAAAAADwPwAAAAAAAPA/AAAAAAAA8D8AAAAAAADwPwAAAAAAAPA/AAAAAAAA8D8AAAAAAADwPwAAAAAAAPA/AAAAAAAA8D8AAAAAAADwPwAAAAAAAPA/AAAAAAAA8D8AAAAAAADwPwAAAAAAAPA/AAAAAAAA8D8AAAAAAADwPwAAAAAAAPA/AAAAAAAA8D8AAAAAAADwPwAAAAAAAPA/AAAAAAAA8D8AAAAAAADwPwAAAAAAAPA/AAAAAAAA8D8AAAAAAADwPwAAAAAAAPA/AAAAAAAA8D8AAAAAAADwPwAAAAAAAPA/AAAAAAAA8D8AAAAAAADwPwAAAAAAAPA/AAAAAAAA8D8AAAAAAADwPwAAAAAAAPA/\",\"dtype\":\"float64\",\"order\":\"little\",\"shape\":[36]},\"zvalues\":{\"__ndarray__\":\"AAAAACZTFUEAAAAAlJwbQQAAAACAChtBAAAAAGisGEGrqqqq0m4VQauqqqr28x5BAAAAAAg1H0FVVVVVGT0ZQQAAAAAsfBRBVVVVVdVnHkGrqqqq5ugeQauqqqrqixpBVVVVVS19FkGrqqqqCA0hQQAAAAC6cCFBq6qqqmoSHEFVVVVVPU0YQVVVVVWRGiJBq6qqqrbPIUEAAAAA0AoeQQAAAAA4uhlBq6qqqva6IkGrqqqq7N4hQVVVVVXt9h5BAAAAAGi8GUGrqqqqctAiQauqqqoE8CFBVVVVVf2RHUGrqqqqPnMYQVVVVVWjiiJBAAAAAN5HIkFVVVVV7UEfQauqqqpqRRpBAAAAAGxqHUEAAAAAi6ckQQAAAAAAAPh/\",\"dtype\":\"float64\",\"order\":\"little\",\"shape\":[36]}},\"selected\":{\"id\":\"1039\"},\"selection_policy\":{\"id\":\"1063\"}},\"id\":\"1038\",\"type\":\"ColumnDataSource\"},{\"attributes\":{},\"id\":\"1025\",\"type\":\"PanTool\"},{\"attributes\":{\"high\":676805.5,\"low\":335627.0,\"nan_color\":\"white\",\"palette\":[\"#f7fbff\",\"#f6faff\",\"#f5fafe\",\"#f5f9fe\",\"#f4f9fe\",\"#f3f8fe\",\"#f2f8fd\",\"#f2f7fd\",\"#f1f7fd\",\"#f0f6fd\",\"#eff6fc\",\"#eef5fc\",\"#eef5fc\",\"#edf4fc\",\"#ecf4fb\",\"#ebf3fb\",\"#eaf3fb\",\"#eaf2fb\",\"#e9f2fa\",\"#e8f1fa\",\"#e7f1fa\",\"#e7f0fa\",\"#e6f0f9\",\"#e5eff9\",\"#e4eff9\",\"#e3eef9\",\"#e3eef8\",\"#e2edf8\",\"#e1edf8\",\"#e0ecf8\",\"#dfecf7\",\"#dfebf7\",\"#deebf7\",\"#ddeaf7\",\"#dceaf6\",\"#dce9f6\",\"#dbe9f6\",\"#dae8f6\",\"#d9e8f5\",\"#d9e7f5\",\"#d8e7f5\",\"#d7e6f5\",\"#d6e6f4\",\"#d6e5f4\",\"#d5e5f4\",\"#d4e4f4\",\"#d3e4f3\",\"#d3e3f3\",\"#d2e3f3\",\"#d1e2f3\",\"#d0e2f2\",\"#d0e1f2\",\"#cfe1f2\",\"#cee0f2\",\"#cde0f1\",\"#cddff1\",\"#ccdff1\",\"#cbdef1\",\"#cadef0\",\"#caddf0\",\"#c9ddf0\",\"#c8dcf0\",\"#c7dcef\",\"#c7dbef\",\"#c6dbef\",\"#c4daee\",\"#c3daee\",\"#c2d9ee\",\"#c1d9ed\",\"#bfd8ed\",\"#bed8ec\",\"#bdd7ec\",\"#bcd7eb\",\"#bad6eb\",\"#b9d6ea\",\"#b8d5ea\",\"#b7d4ea\",\"#b5d4e9\",\"#b4d3e9\",\"#b3d3e8\",\"#b2d2e8\",\"#b0d2e7\",\"#afd1e7\",\"#aed1e7\",\"#add0e6\",\"#abd0e6\",\"#aacfe5\",\"#a9cfe5\",\"#a8cee4\",\"#a6cee4\",\"#a5cde3\",\"#a4cce3\",\"#a3cce3\",\"#a1cbe2\",\"#a0cbe2\",\"#9fcae1\",\"#9dcae1\",\"#9cc9e1\",\"#9ac8e0\",\"#99c7e0\",\"#97c6df\",\"#95c5df\",\"#94c4df\",\"#92c4de\",\"#91c3de\",\"#8fc2de\",\"#8dc1dd\",\"#8cc0dd\",\"#8abfdd\",\"#89bedc\",\"#87bddc\",\"#85bcdc\",\"#84bcdb\",\"#82bbdb\",\"#81badb\",\"#7fb9da\",\"#7db8da\",\"#7cb7da\",\"#7ab6d9\",\"#79b5d9\",\"#77b5d9\",\"#75b4d8\",\"#74b3d8\",\"#72b2d8\",\"#71b1d7\",\"#6fb0d7\",\"#6dafd7\",\"#6caed6\",\"#6aaed6\",\"#69add5\",\"#68acd5\",\"#66abd4\",\"#65aad4\",\"#64a9d3\",\"#63a8d3\",\"#61a7d2\",\"#60a7d2\",\"#5fa6d1\",\"#5da5d1\",\"#5ca4d0\",\"#5ba3d0\",\"#5aa2cf\",\"#58a1cf\",\"#57a0ce\",\"#56a0ce\",\"#549fcd\",\"#539ecd\",\"#529dcc\",\"#519ccc\",\"#4f9bcb\",\"#4e9acb\",\"#4d99ca\",\"#4b98ca\",\"#4a98c9\",\"#4997c9\",\"#4896c8\",\"#4695c8\",\"#4594c7\",\"#4493c7\",\"#4292c6\",\"#4191c6\",\"#4090c5\",\"#3f8fc5\",\"#3e8ec4\",\"#3d8dc4\",\"#3c8cc3\",\"#3b8bc2\",\"#3a8ac2\",\"#3989c1\",\"#3888c1\",\"#3787c0\",\"#3686c0\",\"#3585bf\",\"#3484bf\",\"#3383be\",\"#3282be\",\"#3181bd\",\"#3080bd\",\"#2f7fbc\",\"#2e7ebc\",\"#2d7dbb\",\"#2c7cba\",\"#2b7bba\",\"#2a7ab9\",\"#2979b9\",\"#2777b8\",\"#2676b8\",\"#2575b7\",\"#2474b7\",\"#2373b6\",\"#2272b6\",\"#2171b5\",\"#2070b4\",\"#206fb4\",\"#1f6eb3\",\"#1e6db2\",\"#1d6cb1\",\"#1c6bb0\",\"#1c6ab0\",\"#1b69af\",\"#1a68ae\",\"#1967ad\",\"#1966ad\",\"#1865ac\",\"#1764ab\",\"#1663aa\",\"#1562a9\",\"#1561a9\",\"#1460a8\",\"#135fa7\",\"#125ea6\",\"#125da6\",\"#115ca5\",\"#105ba4\",\"#0f5aa3\",\"#0e59a2\",\"#0e58a2\",\"#0d57a1\",\"#0c56a0\",\"#0b559f\",\"#0a549e\",\"#0a539e\",\"#09529d\",\"#08519c\",\"#08509b\",\"#084f99\",\"#084e98\",\"#084d96\",\"#084c95\",\"#084b93\",\"#084a91\",\"#084990\",\"#08488e\",\"#08478d\",\"#08468b\",\"#08458a\",\"#084488\",\"#084387\",\"#084285\",\"#084184\",\"#084082\",\"#083e81\",\"#083d7f\",\"#083c7d\",\"#083b7c\",\"#083a7a\",\"#083979\",\"#083877\",\"#083776\",\"#083674\",\"#083573\",\"#083471\",\"#083370\",\"#08326e\",\"#08316d\",\"#08306b\"]},\"id\":\"1037\",\"type\":\"LinearColorMapper\"},{\"attributes\":{\"bottom_units\":\"screen\",\"coordinates\":null,\"fill_alpha\":0.5,\"fill_color\":\"lightgrey\",\"group\":null,\"left_units\":\"screen\",\"level\":\"overlay\",\"line_alpha\":1.0,\"line_color\":\"black\",\"line_dash\":[4,4],\"line_width\":2,\"right_units\":\"screen\",\"syncable\":false,\"top_units\":\"screen\"},\"id\":\"1029\",\"type\":\"BoxAnnotation\"},{\"attributes\":{\"axis_label\":\"index.quarter\",\"coordinates\":null,\"formatter\":{\"id\":\"1053\"},\"group\":null,\"major_label_policy\":{\"id\":\"1054\"},\"ticker\":{\"id\":\"1021\"}},\"id\":\"1020\",\"type\":\"LinearAxis\"},{\"attributes\":{},\"id\":\"1053\",\"type\":\"BasicTickFormatter\"},{\"attributes\":{\"fill_color\":{\"field\":\"zvalues\",\"transform\":{\"id\":\"1037\"}},\"height\":{\"field\":\"height\"},\"line_alpha\":{\"value\":0},\"line_color\":{\"value\":\"#1f77b4\"},\"width\":{\"field\":\"width\"},\"x\":{\"field\":\"index_full_stop_year\"},\"y\":{\"field\":\"index_full_stop_quarter\"}},\"id\":\"1043\",\"type\":\"Rect\"},{\"attributes\":{\"overlay\":{\"id\":\"1029\"}},\"id\":\"1027\",\"type\":\"BoxZoomTool\"},{\"attributes\":{},\"id\":\"1059\",\"type\":\"NoOverlap\"},{\"attributes\":{},\"id\":\"1051\",\"type\":\"AllLabels\"},{\"attributes\":{\"bar_line_color\":\"black\",\"color_mapper\":{\"id\":\"1037\"},\"coordinates\":null,\"group\":null,\"label_standoff\":8,\"location\":[0,0],\"major_label_policy\":{\"id\":\"1059\"},\"major_tick_line_color\":\"black\",\"ticker\":{\"id\":\"1047\"}},\"id\":\"1048\",\"type\":\"ColorBar\"},{\"attributes\":{},\"id\":\"1063\",\"type\":\"UnionRenderers\"},{\"attributes\":{\"axis\":{\"id\":\"1020\"},\"coordinates\":null,\"dimension\":1,\"grid_line_color\":null,\"group\":null,\"ticker\":null},\"id\":\"1023\",\"type\":\"Grid\"},{\"attributes\":{\"coordinates\":null,\"group\":null,\"text_color\":\"black\",\"text_font_size\":\"12pt\"},\"id\":\"1008\",\"type\":\"Title\"},{\"attributes\":{\"fill_color\":{\"field\":\"zvalues\",\"transform\":{\"id\":\"1037\"}},\"height\":{\"field\":\"height\"},\"line_alpha\":{\"value\":0},\"line_color\":{\"value\":\"#1f77b4\"},\"width\":{\"field\":\"width\"},\"x\":{\"field\":\"index_full_stop_year\"},\"y\":{\"field\":\"index_full_stop_quarter\"}},\"id\":\"1041\",\"type\":\"Rect\"},{\"attributes\":{},\"id\":\"1028\",\"type\":\"ResetTool\"},{\"attributes\":{},\"id\":\"1017\",\"type\":\"BasicTicker\"},{\"attributes\":{\"margin\":[5,5,5,5],\"name\":\"HSpacer01685\",\"sizing_mode\":\"stretch_width\"},\"id\":\"1077\",\"type\":\"Spacer\"},{\"attributes\":{\"axis_label\":\"index.year\",\"coordinates\":null,\"formatter\":{\"id\":\"1050\"},\"group\":null,\"major_label_policy\":{\"id\":\"1051\"},\"ticker\":{\"id\":\"1017\"}},\"id\":\"1016\",\"type\":\"LinearAxis\"},{\"attributes\":{},\"id\":\"1012\",\"type\":\"LinearScale\"},{\"attributes\":{\"tools\":[{\"id\":\"1006\"},{\"id\":\"1024\"},{\"id\":\"1025\"},{\"id\":\"1026\"},{\"id\":\"1027\"},{\"id\":\"1028\"}]},\"id\":\"1030\",\"type\":\"Toolbar\"},{\"attributes\":{\"coordinates\":null,\"data_source\":{\"id\":\"1038\"},\"glyph\":{\"id\":\"1041\"},\"group\":null,\"hover_glyph\":null,\"muted_glyph\":{\"id\":\"1044\"},\"nonselection_glyph\":{\"id\":\"1042\"},\"selection_glyph\":{\"id\":\"1043\"},\"view\":{\"id\":\"1046\"}},\"id\":\"1045\",\"type\":\"GlyphRenderer\"},{\"attributes\":{\"source\":{\"id\":\"1038\"}},\"id\":\"1046\",\"type\":\"CDSView\"},{\"attributes\":{\"below\":[{\"id\":\"1016\"}],\"center\":[{\"id\":\"1019\"},{\"id\":\"1023\"}],\"height\":300,\"left\":[{\"id\":\"1020\"}],\"margin\":[5,5,5,5],\"min_border_bottom\":10,\"min_border_left\":10,\"min_border_right\":10,\"min_border_top\":10,\"renderers\":[{\"id\":\"1045\"}],\"right\":[{\"id\":\"1048\"}],\"sizing_mode\":\"fixed\",\"title\":{\"id\":\"1008\"},\"toolbar\":{\"id\":\"1030\"},\"width\":700,\"x_range\":{\"id\":\"1004\"},\"x_scale\":{\"id\":\"1012\"},\"y_range\":{\"id\":\"1005\"},\"y_scale\":{\"id\":\"1014\"}},\"id\":\"1007\",\"subtype\":\"Figure\",\"type\":\"Plot\"},{\"attributes\":{},\"id\":\"1039\",\"type\":\"Selection\"},{\"attributes\":{\"children\":[{\"id\":\"1003\"},{\"id\":\"1007\"},{\"id\":\"1077\"}],\"margin\":[0,0,0,0],\"name\":\"Row01680\",\"tags\":[\"embedded\"]},\"id\":\"1002\",\"type\":\"Row\"},{\"attributes\":{},\"id\":\"1021\",\"type\":\"BasicTicker\"},{\"attributes\":{},\"id\":\"1047\",\"type\":\"BasicTicker\"},{\"attributes\":{\"callback\":null,\"renderers\":[{\"id\":\"1045\"}],\"tags\":[\"hv_created\"],\"tooltips\":[[\"index.year\",\"@{index_full_stop_year}\"],[\"index.quarter\",\"@{index_full_stop_quarter}\"],[\"homes_sold\",\"@{homes_sold}\"]]},\"id\":\"1006\",\"type\":\"HoverTool\"},{\"attributes\":{},\"id\":\"1014\",\"type\":\"LinearScale\"},{\"attributes\":{\"margin\":[5,5,5,5],\"name\":\"HSpacer01684\",\"sizing_mode\":\"stretch_width\"},\"id\":\"1003\",\"type\":\"Spacer\"},{\"attributes\":{\"end\":2020.5,\"reset_end\":2020.5,\"reset_start\":2011.5,\"start\":2011.5,\"tags\":[[[\"index.year\",\"index.year\",null]]]},\"id\":\"1004\",\"type\":\"Range1d\"},{\"attributes\":{\"fill_alpha\":{\"value\":0.1},\"fill_color\":{\"field\":\"zvalues\",\"transform\":{\"id\":\"1037\"}},\"hatch_alpha\":{\"value\":0.1},\"height\":{\"field\":\"height\"},\"line_alpha\":{\"value\":0},\"line_color\":{\"value\":\"#1f77b4\"},\"width\":{\"field\":\"width\"},\"x\":{\"field\":\"index_full_stop_year\"},\"y\":{\"field\":\"index_full_stop_quarter\"}},\"id\":\"1042\",\"type\":\"Rect\"},{\"attributes\":{},\"id\":\"1054\",\"type\":\"AllLabels\"},{\"attributes\":{\"end\":4.5,\"reset_end\":4.5,\"reset_start\":0.5,\"start\":0.5,\"tags\":[[[\"index.quarter\",\"index.quarter\",null]]]},\"id\":\"1005\",\"type\":\"Range1d\"}],\"root_ids\":[\"1002\"]},\"title\":\"Bokeh Application\",\"version\":\"2.4.2\"}};\n",
       "    var render_items = [{\"docid\":\"44d6a583-60cc-4285-a1f7-19834876a888\",\"root_ids\":[\"1002\"],\"roots\":{\"1002\":\"5255d16c-3e55-44fc-ab92-5bee1366e533\"}}];\n",
       "    root.Bokeh.embed.embed_items_notebook(docs_json, render_items);\n",
       "  }\n",
       "  if (root.Bokeh !== undefined && root.Bokeh.Panel !== undefined) {\n",
       "    embed_document(root);\n",
       "  } else {\n",
       "    var attempts = 0;\n",
       "    var timer = setInterval(function(root) {\n",
       "      if (root.Bokeh !== undefined && root.Bokeh.Panel !== undefined) {\n",
       "        clearInterval(timer);\n",
       "        embed_document(root);\n",
       "      } else if (document.readyState == \"complete\") {\n",
       "        attempts++;\n",
       "        if (attempts > 200) {\n",
       "          clearInterval(timer);\n",
       "          console.log(\"Bokeh: ERROR: Unable to run BokehJS code because BokehJS library is missing\");\n",
       "        }\n",
       "      }\n",
       "    }, 25, root)\n",
       "  }\n",
       "})(window);</script>"
      ],
      "text/plain": [
       ":HeatMap   [index.year,index.quarter]   (homes_sold)"
      ]
     },
     "execution_count": 26,
     "metadata": {
      "application/vnd.holoviews_exec.v0+json": {
       "id": "1002"
      }
     },
     "output_type": "execute_result"
    }
   ],
   "source": [
    "# Plot quarterly home sales per year using a heatmap\n",
    "df_home_sales.hvplot.heatmap(\n",
    "    x=\"index.year\",\n",
    "    y=\"index.quarter\",\n",
    "    C=\"homes_sold\",\n",
    "    cmap=\"blues\"\n",
    ").aggregate(function=np.mean)"
   ]
  },
  {
   "cell_type": "code",
   "execution_count": null,
   "id": "eb110fa5-a5c5-42e3-9d48-3fbdcbe453da",
   "metadata": {},
   "outputs": [],
   "source": []
  },
  {
   "cell_type": "code",
   "execution_count": null,
   "id": "0b86ccd0-d74e-4bcb-bb09-f696838dafa7",
   "metadata": {},
   "outputs": [],
   "source": []
  },
  {
   "cell_type": "code",
   "execution_count": 27,
   "id": "57a3c4bd-0ebe-46ee-bc8e-b3633805f7b8",
   "metadata": {},
   "outputs": [
    {
     "data": {
      "text/html": [
       "<div>\n",
       "<style scoped>\n",
       "    .dataframe tbody tr th:only-of-type {\n",
       "        vertical-align: middle;\n",
       "    }\n",
       "\n",
       "    .dataframe tbody tr th {\n",
       "        vertical-align: top;\n",
       "    }\n",
       "\n",
       "    .dataframe thead th {\n",
       "        text-align: right;\n",
       "    }\n",
       "</style>\n",
       "<table border=\"1\" class=\"dataframe\">\n",
       "  <thead>\n",
       "    <tr style=\"text-align: right;\">\n",
       "      <th></th>\n",
       "      <th>inventory</th>\n",
       "      <th>homes_sold</th>\n",
       "    </tr>\n",
       "  </thead>\n",
       "  <tbody>\n",
       "    <tr>\n",
       "      <th>inventory</th>\n",
       "      <td>1.000000</td>\n",
       "      <td>-0.006937</td>\n",
       "    </tr>\n",
       "    <tr>\n",
       "      <th>homes_sold</th>\n",
       "      <td>-0.006937</td>\n",
       "      <td>1.000000</td>\n",
       "    </tr>\n",
       "  </tbody>\n",
       "</table>\n",
       "</div>"
      ],
      "text/plain": [
       "            inventory  homes_sold\n",
       "inventory    1.000000   -0.006937\n",
       "homes_sold  -0.006937    1.000000"
      ]
     },
     "execution_count": 27,
     "metadata": {},
     "output_type": "execute_result"
    }
   ],
   "source": [
    "df_home_sales[[\"inventory\", \"homes_sold\"]].corr()"
   ]
  },
  {
   "cell_type": "code",
   "execution_count": null,
   "id": "3287e4d1-db50-47a1-ac27-5d6a06e0bd88",
   "metadata": {},
   "outputs": [],
   "source": []
  }
 ],
 "metadata": {
  "kernelspec": {
   "display_name": "Python 3 (ipykernel)",
   "language": "python",
   "name": "python3"
  },
  "language_info": {
   "codemirror_mode": {
    "name": "ipython",
    "version": 3
   },
   "file_extension": ".py",
   "mimetype": "text/x-python",
   "name": "python",
   "nbconvert_exporter": "python",
   "pygments_lexer": "ipython3",
   "version": "3.7.13"
  }
 },
 "nbformat": 4,
 "nbformat_minor": 5
}
